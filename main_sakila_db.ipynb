{
 "cells": [
  {
   "cell_type": "markdown",
   "id": "e2152b0f",
   "metadata": {},
   "source": [
    "### Librerías y paquetes"
   ]
  },
  {
   "cell_type": "code",
   "execution_count": null,
   "id": "69d7a5ba",
   "metadata": {},
   "outputs": [],
   "source": [
    "import numpy as np\n",
    "import pandas as pd\n",
    "import matplotlib.pyplot as plt\n",
    "import sqlite3\n",
    "\n",
    "%matplotlib inline"
   ]
  },
  {
   "cell_type": "markdown",
   "id": "b89a06e1",
   "metadata": {},
   "source": [
    "### Leer data"
   ]
  },
  {
   "cell_type": "code",
   "execution_count": null,
   "id": "8d68ad0d",
   "metadata": {},
   "outputs": [],
   "source": []
  }
 ],
 "metadata": {
  "kernelspec": {
   "display_name": "base",
   "language": "python",
   "name": "python3"
  },
  "language_info": {
   "name": "python",
   "version": "3.12.7"
  }
 },
 "nbformat": 4,
 "nbformat_minor": 5
}
